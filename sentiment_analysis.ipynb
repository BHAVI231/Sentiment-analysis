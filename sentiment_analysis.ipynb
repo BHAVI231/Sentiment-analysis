{
 "cells": [
  {
   "cell_type": "code",
   "execution_count": 67,
   "metadata": {},
   "outputs": [
    {
     "name": "stdout",
     "output_type": "stream",
     "text": [
      "[({'b': True, 'a': True, 'd': True}, 'neg'), ({'t': True, 'e': True, 'r': True, 'i': True, 'b': True, 'l': True}, 'neg'), ({'u': True, 's': True, 'e': True, 'l': True}, 'neg'), ({'h': True, 'a': True, 't': True, 'e': True}, 'neg'), ({':': True, '(': True}, 'neg'), ({'a': True, 'w': True, 'e': True, 's': True, 'o': True, 'm': True}, 'pos'), ({'o': True, 'u': True, 't': True, 's': True, 'a': True, 'n': True, 'd': True, 'i': True, 'g': True}, 'pos'), ({'f': True, 'a': True, 'n': True, 't': True, 's': True, 'i': True, 'c': True}, 'pos'), ({'t': True, 'e': True, 'r': True, 'i': True, 'f': True, 'c': True}, 'pos'), ({'g': True, 'o': True, 'd': True}, 'pos'), ({'n': True, 'i': True, 'c': True, 'e': True}, 'pos'), ({'g': True, 'r': True, 'e': True, 'a': True, 't': True}, 'pos'), ({':': True, ')': True}, 'pos'), ({'m': True, 'o': True, 'v': True, 'i': True, 'e': True}, 'neu'), ({'t': True, 'h': True, 'e': True}, 'neu'), ({'s': True, 'o': True, 'u': True, 'n': True, 'd': True}, 'neu'), ({'w': True, 'a': True, 's': True}, 'neu'), ({'i': True, 's': True}, 'neu'), ({'a': True, 'c': True, 't': True, 'o': True, 'r': True, 's': True}, 'neu'), ({'d': True, 'i': True}, 'neu'), ({'k': True, 'n': True, 'o': True, 'w': True}, 'neu'), ({'w': True, 'o': True, 'r': True, 'd': True, 's': True}, 'neu'), ({'n': True, 'o': True, 't': True}, 'neu')]\n",
      "Positive: 0.6\n",
      "Negative: 0.2\n"
     ]
    }
   ],
   "source": [
    "import nltk.classify.util\n",
    "from nltk.classify import NaiveBayesClassifier\n",
    "from nltk.corpus import names\n",
    " \n",
    "def word_feats(words):\n",
    "    return dict([(word, True) for word in words])\n",
    " \n",
    "positive_vocab = [ 'awesome', 'outstanding', 'fantastic', 'terrific', 'good', 'nice', 'great', ':)' ]\n",
    "negative_vocab = [ 'bad', 'terrible','useless', 'hate', ':(' ]\n",
    "neutral_vocab = [ 'movie','the','sound','was','is','actors','did','know','words','not' ]\n",
    " \n",
    "positive_features = [(word_feats(pos), 'pos') for pos in positive_vocab]\n",
    "negative_features = [(word_feats(neg), 'neg') for neg in negative_vocab]\n",
    "neutral_features = [(word_feats(neu), 'neu') for neu in neutral_vocab]\n",
    " \n",
    "train_set = negative_features + positive_features + neutral_features\n",
    "print(train_set)\n",
    " \n",
    "classifier = NaiveBayesClassifier.train(train_set) \n",
    " \n",
    "# Predict\n",
    "neg = 0\n",
    "pos = 0\n",
    "sentence = \"Awesome movie, I liked it\"\n",
    "sentence = sentence.lower()\n",
    "words = sentence.split(' ')\n",
    "for word in words:\n",
    "    classResult = classifier.classify( word_feats(word))\n",
    "    if classResult == 'neg':\n",
    "        neg = neg + 1\n",
    "    if classResult == 'pos':\n",
    "        pos = pos + 1\n",
    " \n",
    "print('Positive: ' + str(float(pos)/len(words)))\n",
    "print('Negative: ' + str(float(neg)/len(words)))"
   ]
  }
 ],
 "metadata": {
  "kernelspec": {
   "display_name": "Python 3 (ipykernel)",
   "language": "python",
   "name": "python3"
  },
  "language_info": {
   "codemirror_mode": {
    "name": "ipython",
    "version": 3
   },
   "file_extension": ".py",
   "mimetype": "text/x-python",
   "name": "python",
   "nbconvert_exporter": "python",
   "pygments_lexer": "ipython3",
   "version": "3.9.7"
  }
 },
 "nbformat": 4,
 "nbformat_minor": 2
}
